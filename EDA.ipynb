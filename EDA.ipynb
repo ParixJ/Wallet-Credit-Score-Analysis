{
 "cells": [
  {
   "cell_type": "code",
   "execution_count": 1,
   "id": "5331372a",
   "metadata": {},
   "outputs": [],
   "source": [
    "import pandas as pd\n",
    "import matplotlib.pyplot as plt"
   ]
  },
  {
   "cell_type": "code",
   "execution_count": 2,
   "id": "18b54126",
   "metadata": {},
   "outputs": [],
   "source": [
    "dataset = pd.read_json('dataset/user-wallet-transactions.json')"
   ]
  },
  {
   "cell_type": "code",
   "execution_count": 3,
   "id": "df20cced",
   "metadata": {},
   "outputs": [
    {
     "data": {
      "text/html": [
       "<div>\n",
       "<style scoped>\n",
       "    .dataframe tbody tr th:only-of-type {\n",
       "        vertical-align: middle;\n",
       "    }\n",
       "\n",
       "    .dataframe tbody tr th {\n",
       "        vertical-align: top;\n",
       "    }\n",
       "\n",
       "    .dataframe thead th {\n",
       "        text-align: right;\n",
       "    }\n",
       "</style>\n",
       "<table border=\"1\" class=\"dataframe\">\n",
       "  <thead>\n",
       "    <tr style=\"text-align: right;\">\n",
       "      <th></th>\n",
       "      <th>_id</th>\n",
       "      <th>userWallet</th>\n",
       "      <th>network</th>\n",
       "      <th>protocol</th>\n",
       "      <th>txHash</th>\n",
       "      <th>logId</th>\n",
       "      <th>timestamp</th>\n",
       "      <th>blockNumber</th>\n",
       "      <th>action</th>\n",
       "      <th>actionData</th>\n",
       "      <th>__v</th>\n",
       "      <th>createdAt</th>\n",
       "      <th>updatedAt</th>\n",
       "    </tr>\n",
       "  </thead>\n",
       "  <tbody>\n",
       "    <tr>\n",
       "      <th>0</th>\n",
       "      <td>{'$oid': '681d38fed63812d4655f571a'}</td>\n",
       "      <td>0x00000000001accfa9cef68cf5371a23025b6d4b6</td>\n",
       "      <td>polygon</td>\n",
       "      <td>aave_v2</td>\n",
       "      <td>0x695c69acf608fbf5d38e48ca5535e118cc213a89e3d6...</td>\n",
       "      <td>0x695c69acf608fbf5d38e48ca5535e118cc213a89e3d6...</td>\n",
       "      <td>2021-08-17 05:29:26</td>\n",
       "      <td>1629178166</td>\n",
       "      <td>deposit</td>\n",
       "      <td>{'type': 'Deposit', 'amount': '2000000000', 'a...</td>\n",
       "      <td>0</td>\n",
       "      <td>{'$date': '2025-05-08T23:06:39.465Z'}</td>\n",
       "      <td>{'$date': '2025-05-08T23:06:39.465Z'}</td>\n",
       "    </tr>\n",
       "    <tr>\n",
       "      <th>1</th>\n",
       "      <td>{'$oid': '681aa70dd6df53021cc6f3c0'}</td>\n",
       "      <td>0x000000000051d07a4fb3bd10121a343d85818da6</td>\n",
       "      <td>polygon</td>\n",
       "      <td>aave_v2</td>\n",
       "      <td>0xe6fc162c86b2928b0ba9b82bda672763665152b9de9d...</td>\n",
       "      <td>0xe6fc162c86b2928b0ba9b82bda672763665152b9de9d...</td>\n",
       "      <td>2021-05-20 15:36:53</td>\n",
       "      <td>1621525013</td>\n",
       "      <td>deposit</td>\n",
       "      <td>{'type': 'Deposit', 'amount': '145000000000000...</td>\n",
       "      <td>0</td>\n",
       "      <td>{'$date': '2025-05-07T00:19:26.159Z'}</td>\n",
       "      <td>{'$date': '2025-05-07T00:19:26.159Z'}</td>\n",
       "    </tr>\n",
       "    <tr>\n",
       "      <th>2</th>\n",
       "      <td>{'$oid': '681d04c2d63812d4654c733e'}</td>\n",
       "      <td>0x000000000096026fb41fc39f9875d164bd82e2dc</td>\n",
       "      <td>polygon</td>\n",
       "      <td>aave_v2</td>\n",
       "      <td>0xe2d7eb815c89331a734ed6f204a06c385a1b39040baa...</td>\n",
       "      <td>0xe2d7eb815c89331a734ed6f204a06c385a1b39040baa...</td>\n",
       "      <td>2021-07-24 09:28:33</td>\n",
       "      <td>1627118913</td>\n",
       "      <td>deposit</td>\n",
       "      <td>{'type': 'Deposit', 'amount': '100000000000000...</td>\n",
       "      <td>0</td>\n",
       "      <td>{'$date': '2025-05-08T19:23:47.877Z'}</td>\n",
       "      <td>{'$date': '2025-05-08T19:23:47.877Z'}</td>\n",
       "    </tr>\n",
       "    <tr>\n",
       "      <th>3</th>\n",
       "      <td>{'$oid': '681d133bd63812d46551b6ef'}</td>\n",
       "      <td>0x000000000096026fb41fc39f9875d164bd82e2dc</td>\n",
       "      <td>polygon</td>\n",
       "      <td>aave_v2</td>\n",
       "      <td>0x0d63a2eacd82b82f868db825ea7385e6bd8d046ee729...</td>\n",
       "      <td>0x0d63a2eacd82b82f868db825ea7385e6bd8d046ee729...</td>\n",
       "      <td>2021-07-31 23:15:18</td>\n",
       "      <td>1627773318</td>\n",
       "      <td>deposit</td>\n",
       "      <td>{'type': 'Deposit', 'amount': '400000000000000...</td>\n",
       "      <td>0</td>\n",
       "      <td>{'$date': '2025-05-08T20:25:33.141Z'}</td>\n",
       "      <td>{'$date': '2025-05-08T20:25:33.141Z'}</td>\n",
       "    </tr>\n",
       "    <tr>\n",
       "      <th>4</th>\n",
       "      <td>{'$oid': '681899e4ba49fc91cf2f4454'}</td>\n",
       "      <td>0x0000000000e189dd664b9ab08a33c4839953852c</td>\n",
       "      <td>polygon</td>\n",
       "      <td>aave_v2</td>\n",
       "      <td>0x590eabb812c5006a6f4766f44e6e9d3ad0b5b563de69...</td>\n",
       "      <td>0x590eabb812c5006a6f4766f44e6e9d3ad0b5b563de69...</td>\n",
       "      <td>2021-04-19 15:25:07</td>\n",
       "      <td>1618845907</td>\n",
       "      <td>redeemunderlying</td>\n",
       "      <td>{'type': 'RedeemUnderlying', 'amount': '501548...</td>\n",
       "      <td>0</td>\n",
       "      <td>{'$date': '2025-05-05T10:58:45.934Z'}</td>\n",
       "      <td>{'$date': '2025-05-05T10:58:45.934Z'}</td>\n",
       "    </tr>\n",
       "  </tbody>\n",
       "</table>\n",
       "</div>"
      ],
      "text/plain": [
       "                                    _id  \\\n",
       "0  {'$oid': '681d38fed63812d4655f571a'}   \n",
       "1  {'$oid': '681aa70dd6df53021cc6f3c0'}   \n",
       "2  {'$oid': '681d04c2d63812d4654c733e'}   \n",
       "3  {'$oid': '681d133bd63812d46551b6ef'}   \n",
       "4  {'$oid': '681899e4ba49fc91cf2f4454'}   \n",
       "\n",
       "                                   userWallet  network protocol  \\\n",
       "0  0x00000000001accfa9cef68cf5371a23025b6d4b6  polygon  aave_v2   \n",
       "1  0x000000000051d07a4fb3bd10121a343d85818da6  polygon  aave_v2   \n",
       "2  0x000000000096026fb41fc39f9875d164bd82e2dc  polygon  aave_v2   \n",
       "3  0x000000000096026fb41fc39f9875d164bd82e2dc  polygon  aave_v2   \n",
       "4  0x0000000000e189dd664b9ab08a33c4839953852c  polygon  aave_v2   \n",
       "\n",
       "                                              txHash  \\\n",
       "0  0x695c69acf608fbf5d38e48ca5535e118cc213a89e3d6...   \n",
       "1  0xe6fc162c86b2928b0ba9b82bda672763665152b9de9d...   \n",
       "2  0xe2d7eb815c89331a734ed6f204a06c385a1b39040baa...   \n",
       "3  0x0d63a2eacd82b82f868db825ea7385e6bd8d046ee729...   \n",
       "4  0x590eabb812c5006a6f4766f44e6e9d3ad0b5b563de69...   \n",
       "\n",
       "                                               logId           timestamp  \\\n",
       "0  0x695c69acf608fbf5d38e48ca5535e118cc213a89e3d6... 2021-08-17 05:29:26   \n",
       "1  0xe6fc162c86b2928b0ba9b82bda672763665152b9de9d... 2021-05-20 15:36:53   \n",
       "2  0xe2d7eb815c89331a734ed6f204a06c385a1b39040baa... 2021-07-24 09:28:33   \n",
       "3  0x0d63a2eacd82b82f868db825ea7385e6bd8d046ee729... 2021-07-31 23:15:18   \n",
       "4  0x590eabb812c5006a6f4766f44e6e9d3ad0b5b563de69... 2021-04-19 15:25:07   \n",
       "\n",
       "   blockNumber            action  \\\n",
       "0   1629178166           deposit   \n",
       "1   1621525013           deposit   \n",
       "2   1627118913           deposit   \n",
       "3   1627773318           deposit   \n",
       "4   1618845907  redeemunderlying   \n",
       "\n",
       "                                          actionData  __v  \\\n",
       "0  {'type': 'Deposit', 'amount': '2000000000', 'a...    0   \n",
       "1  {'type': 'Deposit', 'amount': '145000000000000...    0   \n",
       "2  {'type': 'Deposit', 'amount': '100000000000000...    0   \n",
       "3  {'type': 'Deposit', 'amount': '400000000000000...    0   \n",
       "4  {'type': 'RedeemUnderlying', 'amount': '501548...    0   \n",
       "\n",
       "                               createdAt  \\\n",
       "0  {'$date': '2025-05-08T23:06:39.465Z'}   \n",
       "1  {'$date': '2025-05-07T00:19:26.159Z'}   \n",
       "2  {'$date': '2025-05-08T19:23:47.877Z'}   \n",
       "3  {'$date': '2025-05-08T20:25:33.141Z'}   \n",
       "4  {'$date': '2025-05-05T10:58:45.934Z'}   \n",
       "\n",
       "                               updatedAt  \n",
       "0  {'$date': '2025-05-08T23:06:39.465Z'}  \n",
       "1  {'$date': '2025-05-07T00:19:26.159Z'}  \n",
       "2  {'$date': '2025-05-08T19:23:47.877Z'}  \n",
       "3  {'$date': '2025-05-08T20:25:33.141Z'}  \n",
       "4  {'$date': '2025-05-05T10:58:45.934Z'}  "
      ]
     },
     "execution_count": 3,
     "metadata": {},
     "output_type": "execute_result"
    }
   ],
   "source": [
    "dataset.head(5)"
   ]
  },
  {
   "cell_type": "code",
   "execution_count": 4,
   "id": "e078a70b",
   "metadata": {},
   "outputs": [
    {
     "data": {
      "text/plain": [
       "array(['deposit', 'redeemunderlying', 'borrow', 'repay',\n",
       "       'liquidationcall'], dtype=object)"
      ]
     },
     "execution_count": 4,
     "metadata": {},
     "output_type": "execute_result"
    }
   ],
   "source": [
    "dataset['action'].unique()"
   ]
  },
  {
   "cell_type": "code",
   "execution_count": 5,
   "id": "4117731a",
   "metadata": {},
   "outputs": [],
   "source": [
    "dataset = dataset.drop(['_id'], axis=1)"
   ]
  },
  {
   "cell_type": "code",
   "execution_count": 6,
   "id": "79d37c23",
   "metadata": {},
   "outputs": [
    {
     "data": {
      "text/plain": [
       "0       2021-08-17 05:29:26\n",
       "1       2021-05-20 15:36:53\n",
       "2       2021-07-24 09:28:33\n",
       "3       2021-07-31 23:15:18\n",
       "4       2021-04-19 15:25:07\n",
       "                ...        \n",
       "99995   2021-06-11 14:20:45\n",
       "99996   2021-06-13 04:32:59\n",
       "99997   2021-06-13 04:39:51\n",
       "99998   2021-06-13 04:43:37\n",
       "99999   2021-06-15 08:26:17\n",
       "Name: timestamp, Length: 100000, dtype: datetime64[ns]"
      ]
     },
     "execution_count": 6,
     "metadata": {},
     "output_type": "execute_result"
    }
   ],
   "source": [
    "dataset['timestamp']"
   ]
  },
  {
   "cell_type": "code",
   "execution_count": 7,
   "id": "4f3942a7",
   "metadata": {},
   "outputs": [
    {
     "name": "stdout",
     "output_type": "stream",
     "text": [
      "<class 'pandas.core.frame.DataFrame'>\n",
      "RangeIndex: 100000 entries, 0 to 99999\n",
      "Data columns (total 12 columns):\n",
      " #   Column       Non-Null Count   Dtype         \n",
      "---  ------       --------------   -----         \n",
      " 0   userWallet   100000 non-null  object        \n",
      " 1   network      100000 non-null  object        \n",
      " 2   protocol     100000 non-null  object        \n",
      " 3   txHash       100000 non-null  object        \n",
      " 4   logId        100000 non-null  object        \n",
      " 5   timestamp    100000 non-null  datetime64[ns]\n",
      " 6   blockNumber  100000 non-null  int64         \n",
      " 7   action       100000 non-null  object        \n",
      " 8   actionData   100000 non-null  object        \n",
      " 9   __v          100000 non-null  int64         \n",
      " 10  createdAt    100000 non-null  object        \n",
      " 11  updatedAt    100000 non-null  object        \n",
      "dtypes: datetime64[ns](1), int64(2), object(9)\n",
      "memory usage: 9.2+ MB\n"
     ]
    }
   ],
   "source": [
    "dataset.info()"
   ]
  },
  {
   "cell_type": "code",
   "execution_count": 8,
   "id": "f5be3dd1",
   "metadata": {},
   "outputs": [
    {
     "data": {
      "text/plain": [
       "94753"
      ]
     },
     "execution_count": 8,
     "metadata": {},
     "output_type": "execute_result"
    }
   ],
   "source": [
    "len(dataset.blockNumber.unique())"
   ]
  }
 ],
 "metadata": {
  "kernelspec": {
   "display_name": "base",
   "language": "python",
   "name": "python3"
  },
  "language_info": {
   "codemirror_mode": {
    "name": "ipython",
    "version": 3
   },
   "file_extension": ".py",
   "mimetype": "text/x-python",
   "name": "python",
   "nbconvert_exporter": "python",
   "pygments_lexer": "ipython3",
   "version": "3.12.7"
  }
 },
 "nbformat": 4,
 "nbformat_minor": 5
}
